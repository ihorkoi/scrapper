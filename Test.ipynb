{
 "cells": [
  {
   "cell_type": "code",
   "execution_count": 29,
   "id": "55793f43",
   "metadata": {},
   "outputs": [],
   "source": [
    "from bs4 import BeautifulSoup\n",
    "import requests\n",
    "import time\n",
    "import pandas as pd"
   ]
  },
  {
   "cell_type": "code",
   "execution_count": 2,
   "id": "013315a8",
   "metadata": {},
   "outputs": [],
   "source": [
    "url = 'https://www.unian.ua/politics'"
   ]
  },
  {
   "cell_type": "code",
   "execution_count": null,
   "id": "e7cb87e4",
   "metadata": {},
   "outputs": [],
   "source": [
    "def get_unian_news_list(url: str):\n",
    "    req = requests.get(\n",
    "        url, headers={\"User-Agent\":\"Mozilla/5.0 (X11; Linux x86_64) AppleWebKit/537.36 (KHTML, like Gecko) Chrome/135.0.0.0 Safari/537.36\"})\n",
    "    if req.status_code != 200:\n",
    "        return \"Status not 200\"\n",
    "    page = BeautifulSoup(req.text, 'html.parser')\n",
    "    all_news = page.find_all('div', class_='list-thumbs__item')\n",
    "    return all_news"
   ]
  },
  {
   "cell_type": "code",
   "execution_count": null,
   "id": "2677ce96",
   "metadata": {},
   "outputs": [],
   "source": [
    "def extract_text_from_news(link):\n",
    "    req = requests.get(link, headers={\n",
    "                       \"User-Agent\": \"Mozilla/5.0 (X11; Linux x86_64) AppleWebKit/537.36 (KHTML, like Gecko) Chrome/135.0.0.0 Safari/537.36\"})\n",
    "    if req.status_code != 200:\n",
    "        return \"Status not 200\"\n",
    "    page = BeautifulSoup(req.text, 'html.parser')\n",
    "    raw_text = page.find('div', class_='article-text')\n",
    "    try:\n",
    "        text = '\\n'.join([x.getText() for x in raw_text.find_all('p')])\n",
    "    except:\n",
    "        return 'Something goes wrong!'\n",
    "    return text"
   ]
  },
  {
   "cell_type": "code",
   "execution_count": 119,
   "id": "b2db1f71",
   "metadata": {},
   "outputs": [],
   "source": [
    "def ectraxt_data_from_news(news_item):\n",
    "    print(f\"Processing: {news_item.a['href']}\")\n",
    "    news = {'title': '', 'text': '', 'creation_time': '', 'reference': ''}\n",
    "\n",
    "    news[\"title\"] = news_item.find('h3').getText().strip()\n",
    "    news[\"text\"] = extract_text_from_news(news_item.a['href'])\n",
    "    news[\"creation time\"] = news_item.find(\n",
    "        'div', class_='list-thumbs__time time').getText()\n",
    "    news['reference'] = news_item.a['href'].strip()\n",
    "    \n",
    "    return news"
   ]
  },
  {
   "cell_type": "code",
   "execution_count": null,
   "id": "a337e0af",
   "metadata": {},
   "outputs": [],
   "source": [
    "def gather_news(url):\n",
    "    gathered_news = []\n",
    "    try:\n",
    "        news_urls = get_unian_news_list(url)[:10]\n",
    "    except:\n",
    "        return 'Cannot get news list!'\n",
    "\n",
    "    for item in news_urls:\n",
    "        gathered_news.append(ectraxt_data_from_news(item))\n",
    "        time.sleep(3)\n",
    "        \n",
    "    return gathered_news"
   ]
  },
  {
   "cell_type": "code",
   "execution_count": 114,
   "id": "02a1286d",
   "metadata": {},
   "outputs": [],
   "source": [
    "news = gather_news(url)"
   ]
  },
  {
   "cell_type": "code",
   "execution_count": 116,
   "id": "6d9ef92f",
   "metadata": {},
   "outputs": [],
   "source": [
    "df = pd.DataFrame.from_dict(news)"
   ]
  },
  {
   "cell_type": "code",
   "execution_count": null,
   "id": "d7d37d3c",
   "metadata": {},
   "outputs": [],
   "source": [
    "df.to_csv('./test.csv', index=False)"
   ]
  }
 ],
 "metadata": {
  "kernelspec": {
   "display_name": "pyml",
   "language": "python",
   "name": "python3"
  },
  "language_info": {
   "codemirror_mode": {
    "name": "ipython",
    "version": 3
   },
   "file_extension": ".py",
   "mimetype": "text/x-python",
   "name": "python",
   "nbconvert_exporter": "python",
   "pygments_lexer": "ipython3",
   "version": "3.9.21"
  }
 },
 "nbformat": 4,
 "nbformat_minor": 5
}
